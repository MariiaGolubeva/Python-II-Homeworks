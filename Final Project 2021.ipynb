{
 "cells": [
  {
   "cell_type": "markdown",
   "id": "282bc121",
   "metadata": {},
   "source": [
    "# Final Project\n",
    "### By Masha Goubeva\n",
    "\n",
    "\n",
    "This project is inspired by the paper [Bazhukov, M. O., Chubarova, L. I., Slioussar, N. A., & Toldova, S. Y. (2021). The order of objects in Russian: a corpus study. In Computational Linguistics and Intellectual Technologies: Papers from the Annual International Conference “Dialogue”(2021). Issue 20. Российский государственный гуманитарный университет]\n",
    "Link: http://www.dialog-21.ru/media/5495/bazhukovmoplusetal117.pdf\n",
    "\n",
    "In the study above is devoted to the topis of the order of objects in Russian. It analyzes the materials of SynTagRus corpus on dirtansitive verbs. SynTagRus is annotated manually and is therefore a really good data for analysis. This project is supposed to be a similar research to the one cited above, but conducted on the automatically annotated corpus of the novel \"Possession\" be A.S.Byett (as you can see, except for being automatically annotated, the text is originally not even in Russian). \n",
    "\n",
    "Unfortunately, I did not have enough resources to follow the original study thoroughly. My project lacks a proper statistical analysis and only has some visual data to compare with the similar plots in the original paper. Also, I have no idea how to present the results from this paper in my jupyter.notebook, therefore I attached the link to the paper above. Please, check it out to compare some results (visualised mostly)"
   ]
  },
  {
   "cell_type": "code",
   "execution_count": 1,
   "id": "d2bb2f7c",
   "metadata": {},
   "outputs": [],
   "source": [
    "import sqlite3\n",
    "import string\n",
    "import pandas as pd\n",
    "import matplotlib.pyplot as plt\n",
    "import spacy\n",
    "from pymystem3 import Mystem\n",
    "import pymorphy2\n",
    "from pymorphy2 import MorphAnalyzer\n",
    "import random"
   ]
  },
  {
   "cell_type": "code",
   "execution_count": 2,
   "id": "10dda46d",
   "metadata": {},
   "outputs": [],
   "source": [
    "import scipy\n",
    "import seaborn as sns"
   ]
  },
  {
   "cell_type": "markdown",
   "id": "c98b5a78",
   "metadata": {},
   "source": [
    "Firstly, I preprocess the original .txt file with the text of the book"
   ]
  },
  {
   "cell_type": "code",
   "execution_count": 3,
   "id": "4e60f36d",
   "metadata": {},
   "outputs": [],
   "source": [
    "def TextinLines(filename):\n",
    "    with open(filename, \"r\", encoding=\"utf-8\") as file:\n",
    "        text=file.read() \n",
    "\n",
    "    text_listed=[]\n",
    "    for i in text.split():\n",
    "        text_listed.append(i)\n",
    "        if i.endswith(('.','!','?','...')) and len(i)>2:\n",
    "            text_listed.append('\\n')\n",
    "\n",
    "    text_lined=' '.join(text_listed)\n",
    "    with open(\"TextinLines_possession.txt\", \"w\",encoding='utf-8') as file:\n",
    "        file.write(text_lined)"
   ]
  },
  {
   "cell_type": "code",
   "execution_count": 4,
   "id": "1f514fd3",
   "metadata": {},
   "outputs": [],
   "source": [
    "TextinLines('possession_byett.txt')"
   ]
  },
  {
   "cell_type": "code",
   "execution_count": 5,
   "id": "ed3326eb",
   "metadata": {},
   "outputs": [],
   "source": [
    "nlp = spacy.load(\"ru_core_news_sm\")"
   ]
  },
  {
   "cell_type": "markdown",
   "id": "3a239b4c",
   "metadata": {},
   "source": [
    "Now I create a table. It is a huge table, and I had to create it all at once, because if I tried to add any columns after, it caused duplicates in all the present columns. I did not succeed to find any other solution "
   ]
  },
  {
   "cell_type": "code",
   "execution_count": 6,
   "id": "154a30bd",
   "metadata": {},
   "outputs": [],
   "source": [
    "conn = sqlite3.connect('Byett_possession.db')\n",
    "c = conn.cursor()\n",
    "c.execute('DROP TABLE IF EXISTS Verbs')\n",
    "c.execute('''CREATE TABLE IF NOT EXISTS Verbs(Sentence TEXT, verb TEXT, subject TEXT DEFAULT no, \n",
    "        DO TEXT DEFAULT no, DO_type TEXT DEFAULT no, DO_animacy TEXT DEFAULT no, IO TEXT DEFAULT no, IO_type TEXT DEFAUT no,\n",
    "        IO_animacy TEXT DEFAULT no, Order_ TEXT DEFAULT no, oblative TEXT DEFAULT no)''')\n",
    "conn.commit()"
   ]
  },
  {
   "cell_type": "code",
   "execution_count": 7,
   "id": "ecaaaea1",
   "metadata": {},
   "outputs": [],
   "source": [
    "morph = MorphAnalyzer()"
   ]
  },
  {
   "cell_type": "markdown",
   "id": "916a2019",
   "metadata": {},
   "source": [
    "So, the table consists of 11 columns, which are the source sentence, the verb(lemmatized), subject, direct object with its part of speech and animacy (as these are the factors analysed in the original article), the same data for indirect object, the linear order of the object and all oblative/prepositional object (which are not necessary here actually)"
   ]
  },
  {
   "cell_type": "code",
   "execution_count": 8,
   "id": "a320c64d",
   "metadata": {
    "scrolled": false
   },
   "outputs": [],
   "source": [
    "with open('TextinLines_possession.txt', \"r\", encoding=\"utf-8\") as file:\n",
    "    text=file.read()\n",
    "\n",
    "for row in text.split('\\n'):\n",
    "    d=nlp(row)\n",
    "    for token in d:\n",
    "        if token.pos_=='VERB':\n",
    "            ana=morph.parse(token.text)[0]\n",
    "            subj='no'\n",
    "            do='no'\n",
    "            io='no'\n",
    "            obl='no'\n",
    "            do_pos='no'\n",
    "            io_pos='no'\n",
    "            do_anim='no'\n",
    "            io_anim='no'\n",
    "            for child in token.children:\n",
    "                if child.dep_ == 'nsubj':\n",
    "                    subj=str(child)\n",
    "                elif child.dep_ == 'obj':\n",
    "                    do=child\n",
    "                    do_pos=child.pos_\n",
    "                    do_anim = morph.parse(str(do))[0].tag.animacy\n",
    "                elif child.dep_ == 'iobj':\n",
    "                    io=child\n",
    "                    io_pos=child.pos_\n",
    "                    io_anim = morph.parse(str(io))[0].tag.animacy\n",
    "                elif child.dep_ == 'obl':\n",
    "                    if obl!='no':\n",
    "                        obl=obl + ', ' + str(child)\n",
    "                    else:\n",
    "                        obl=str(child)\n",
    "            \n",
    "            order='no'\n",
    "            if (type(do) is not str) and (type(io) is not str):\n",
    "                if list(d).index(do) < list(d).index(io):\n",
    "                    order = 'DO-IO'\n",
    "                elif list(d).index(do) > list(d).index(io):\n",
    "                    order = 'IO-DO'\n",
    "            c.execute(\"INSERT INTO Verbs VALUES (?, ?, ?, ?, ?, ?, ?, ?, ?, ?, ?)\", (row, ana.normal_form, subj, str(do), str(do_pos), str(do_anim), str(io), str(io_pos), str(io_anim), order, obl))\n",
    "conn.commit()"
   ]
  },
  {
   "cell_type": "markdown",
   "id": "bfde80bd",
   "metadata": {},
   "source": [
    "Here is the table"
   ]
  },
  {
   "cell_type": "code",
   "execution_count": 9,
   "id": "4a2da90c",
   "metadata": {
    "scrolled": true
   },
   "outputs": [
    {
     "data": {
      "text/html": [
       "<div>\n",
       "<style scoped>\n",
       "    .dataframe tbody tr th:only-of-type {\n",
       "        vertical-align: middle;\n",
       "    }\n",
       "\n",
       "    .dataframe tbody tr th {\n",
       "        vertical-align: top;\n",
       "    }\n",
       "\n",
       "    .dataframe thead th {\n",
       "        text-align: right;\n",
       "    }\n",
       "</style>\n",
       "<table border=\"1\" class=\"dataframe\">\n",
       "  <thead>\n",
       "    <tr style=\"text-align: right;\">\n",
       "      <th></th>\n",
       "      <th>Sentence</th>\n",
       "      <th>verb</th>\n",
       "      <th>subject</th>\n",
       "      <th>DO</th>\n",
       "      <th>DO_type</th>\n",
       "      <th>DO_animacy</th>\n",
       "      <th>IO</th>\n",
       "      <th>IO_type</th>\n",
       "      <th>IO_animacy</th>\n",
       "      <th>Order_</th>\n",
       "      <th>oblative</th>\n",
       "    </tr>\n",
       "  </thead>\n",
       "  <tbody>\n",
       "    <tr>\n",
       "      <th>0</th>\n",
       "      <td>Когда писатель называет своё произведение \"ром...</td>\n",
       "      <td>называть</td>\n",
       "      <td>писатель</td>\n",
       "      <td>произведение</td>\n",
       "      <td>NOUN</td>\n",
       "      <td>inan</td>\n",
       "      <td>no</td>\n",
       "      <td>no</td>\n",
       "      <td>no</td>\n",
       "      <td>no</td>\n",
       "      <td>no</td>\n",
       "    </tr>\n",
       "    <tr>\n",
       "      <th>1</th>\n",
       "      <td>Когда писатель называет своё произведение \"ром...</td>\n",
       "      <td>стоить</td>\n",
       "      <td>no</td>\n",
       "      <td>no</td>\n",
       "      <td>no</td>\n",
       "      <td>no</td>\n",
       "      <td>no</td>\n",
       "      <td>no</td>\n",
       "      <td>no</td>\n",
       "      <td>no</td>\n",
       "      <td>no</td>\n",
       "    </tr>\n",
       "    <tr>\n",
       "      <th>2</th>\n",
       "      <td>Когда писатель называет своё произведение \"ром...</td>\n",
       "      <td>пояснять</td>\n",
       "      <td>no</td>\n",
       "      <td>no</td>\n",
       "      <td>no</td>\n",
       "      <td>no</td>\n",
       "      <td>no</td>\n",
       "      <td>no</td>\n",
       "      <td>no</td>\n",
       "      <td>no</td>\n",
       "      <td>no</td>\n",
       "    </tr>\n",
       "    <tr>\n",
       "      <th>3</th>\n",
       "      <td>Когда писатель называет своё произведение \"ром...</td>\n",
       "      <td>притязать</td>\n",
       "      <td>он</td>\n",
       "      <td>no</td>\n",
       "      <td>no</td>\n",
       "      <td>no</td>\n",
       "      <td>no</td>\n",
       "      <td>no</td>\n",
       "      <td>no</td>\n",
       "      <td>no</td>\n",
       "      <td>тем, вольность, рассуждении</td>\n",
       "    </tr>\n",
       "    <tr>\n",
       "      <th>4</th>\n",
       "      <td>Когда писатель называет своё произведение \"ром...</td>\n",
       "      <td>сметь</td>\n",
       "      <td>no</td>\n",
       "      <td>no</td>\n",
       "      <td>no</td>\n",
       "      <td>no</td>\n",
       "      <td>no</td>\n",
       "      <td>no</td>\n",
       "      <td>no</td>\n",
       "      <td>no</td>\n",
       "      <td>no</td>\n",
       "    </tr>\n",
       "    <tr>\n",
       "      <th>...</th>\n",
       "      <td>...</td>\n",
       "      <td>...</td>\n",
       "      <td>...</td>\n",
       "      <td>...</td>\n",
       "      <td>...</td>\n",
       "      <td>...</td>\n",
       "      <td>...</td>\n",
       "      <td>...</td>\n",
       "      <td>...</td>\n",
       "      <td>...</td>\n",
       "      <td>...</td>\n",
       "    </tr>\n",
       "    <tr>\n",
       "      <th>28270</th>\n",
       "      <td>А по пути домой ей попались братья, затеялась...</td>\n",
       "      <td>попасться</td>\n",
       "      <td>братья</td>\n",
       "      <td>no</td>\n",
       "      <td>no</td>\n",
       "      <td>no</td>\n",
       "      <td>ей</td>\n",
       "      <td>PRON</td>\n",
       "      <td>None</td>\n",
       "      <td>no</td>\n",
       "      <td>пути</td>\n",
       "    </tr>\n",
       "    <tr>\n",
       "      <th>28271</th>\n",
       "      <td>А по пути домой ей попались братья, затеялась...</td>\n",
       "      <td>затеяться</td>\n",
       "      <td>мала</td>\n",
       "      <td>no</td>\n",
       "      <td>no</td>\n",
       "      <td>no</td>\n",
       "      <td>no</td>\n",
       "      <td>no</td>\n",
       "      <td>no</td>\n",
       "      <td>no</td>\n",
       "      <td>no</td>\n",
       "    </tr>\n",
       "    <tr>\n",
       "      <th>28272</th>\n",
       "      <td>А по пути домой ей попались братья, затеялась...</td>\n",
       "      <td>погибнуть</td>\n",
       "      <td>корона</td>\n",
       "      <td>no</td>\n",
       "      <td>no</td>\n",
       "      <td>no</td>\n",
       "      <td>no</td>\n",
       "      <td>no</td>\n",
       "      <td>no</td>\n",
       "      <td>no</td>\n",
       "      <td>no</td>\n",
       "    </tr>\n",
       "    <tr>\n",
       "      <th>28273</th>\n",
       "      <td>А по пути домой ей попались братья, затеялась...</td>\n",
       "      <td>забыть</td>\n",
       "      <td>она</td>\n",
       "      <td>no</td>\n",
       "      <td>no</td>\n",
       "      <td>no</td>\n",
       "      <td>no</td>\n",
       "      <td>no</td>\n",
       "      <td>no</td>\n",
       "      <td>no</td>\n",
       "      <td>послание</td>\n",
       "    </tr>\n",
       "    <tr>\n",
       "      <th>28274</th>\n",
       "      <td>А по пути домой ей попались братья, затеялась...</td>\n",
       "      <td>доставить</td>\n",
       "      <td>no</td>\n",
       "      <td>no</td>\n",
       "      <td>no</td>\n",
       "      <td>no</td>\n",
       "      <td>no</td>\n",
       "      <td>no</td>\n",
       "      <td>no</td>\n",
       "      <td>no</td>\n",
       "      <td>no</td>\n",
       "    </tr>\n",
       "  </tbody>\n",
       "</table>\n",
       "<p>28275 rows × 11 columns</p>\n",
       "</div>"
      ],
      "text/plain": [
       "                                                Sentence       verb   subject  \\\n",
       "0      Когда писатель называет своё произведение \"ром...   называть  писатель   \n",
       "1      Когда писатель называет своё произведение \"ром...     стоить        no   \n",
       "2      Когда писатель называет своё произведение \"ром...   пояснять        no   \n",
       "3      Когда писатель называет своё произведение \"ром...  притязать        он   \n",
       "4      Когда писатель называет своё произведение \"ром...      сметь        no   \n",
       "...                                                  ...        ...       ...   \n",
       "28270   А по пути домой ей попались братья, затеялась...  попасться    братья   \n",
       "28271   А по пути домой ей попались братья, затеялась...  затеяться      мала   \n",
       "28272   А по пути домой ей попались братья, затеялась...  погибнуть    корона   \n",
       "28273   А по пути домой ей попались братья, затеялась...     забыть       она   \n",
       "28274   А по пути домой ей попались братья, затеялась...  доставить        no   \n",
       "\n",
       "                 DO DO_type DO_animacy  IO IO_type IO_animacy Order_  \\\n",
       "0      произведение    NOUN       inan  no      no         no     no   \n",
       "1                no      no         no  no      no         no     no   \n",
       "2                no      no         no  no      no         no     no   \n",
       "3                no      no         no  no      no         no     no   \n",
       "4                no      no         no  no      no         no     no   \n",
       "...             ...     ...        ...  ..     ...        ...    ...   \n",
       "28270            no      no         no  ей    PRON       None     no   \n",
       "28271            no      no         no  no      no         no     no   \n",
       "28272            no      no         no  no      no         no     no   \n",
       "28273            no      no         no  no      no         no     no   \n",
       "28274            no      no         no  no      no         no     no   \n",
       "\n",
       "                          oblative  \n",
       "0                               no  \n",
       "1                               no  \n",
       "2                               no  \n",
       "3      тем, вольность, рассуждении  \n",
       "4                               no  \n",
       "...                            ...  \n",
       "28270                         пути  \n",
       "28271                           no  \n",
       "28272                           no  \n",
       "28273                     послание  \n",
       "28274                           no  \n",
       "\n",
       "[28275 rows x 11 columns]"
      ]
     },
     "execution_count": 9,
     "metadata": {},
     "output_type": "execute_result"
    }
   ],
   "source": [
    "verbs=pd.read_sql_query(\"SELECT * FROM Verbs\", con=conn)\n",
    "pd.read_sql_query(\"SELECT * FROM Verbs\", con=conn)"
   ]
  },
  {
   "cell_type": "markdown",
   "id": "e6b46b3b",
   "metadata": {},
   "source": [
    "Here are all the ditransitive verbs we are interested in"
   ]
  },
  {
   "cell_type": "code",
   "execution_count": 10,
   "id": "617e957f",
   "metadata": {
    "scrolled": true
   },
   "outputs": [
    {
     "data": {
      "text/html": [
       "<div>\n",
       "<style scoped>\n",
       "    .dataframe tbody tr th:only-of-type {\n",
       "        vertical-align: middle;\n",
       "    }\n",
       "\n",
       "    .dataframe tbody tr th {\n",
       "        vertical-align: top;\n",
       "    }\n",
       "\n",
       "    .dataframe thead th {\n",
       "        text-align: right;\n",
       "    }\n",
       "</style>\n",
       "<table border=\"1\" class=\"dataframe\">\n",
       "  <thead>\n",
       "    <tr style=\"text-align: right;\">\n",
       "      <th></th>\n",
       "      <th>Sentence</th>\n",
       "      <th>verb</th>\n",
       "      <th>subject</th>\n",
       "      <th>DO</th>\n",
       "      <th>DO_type</th>\n",
       "      <th>DO_animacy</th>\n",
       "      <th>IO</th>\n",
       "      <th>IO_type</th>\n",
       "      <th>IO_animacy</th>\n",
       "      <th>Order_</th>\n",
       "      <th>oblative</th>\n",
       "    </tr>\n",
       "  </thead>\n",
       "  <tbody>\n",
       "    <tr>\n",
       "      <th>0</th>\n",
       "      <td>Н. Готорн, из Предисловия к роману \"Дом о сем...</td>\n",
       "      <td>явить</td>\n",
       "      <td></td>\n",
       "      <td>Реальность</td>\n",
       "      <td>PROPN</td>\n",
       "      <td>inan</td>\n",
       "      <td>нам</td>\n",
       "      <td>PRON</td>\n",
       "      <td>None</td>\n",
       "      <td>IO-DO</td>\n",
       "      <td>Предисловия, собой, -</td>\n",
       "    </tr>\n",
       "    <tr>\n",
       "      <th>1</th>\n",
       "      <td>Свои законные права к стопам Слагают вашим, п...</td>\n",
       "      <td>слагать</td>\n",
       "      <td>no</td>\n",
       "      <td>права</td>\n",
       "      <td>NOUN</td>\n",
       "      <td>inan</td>\n",
       "      <td>вашим</td>\n",
       "      <td>DET</td>\n",
       "      <td>None</td>\n",
       "      <td>DO-IO</td>\n",
       "      <td>no</td>\n",
       "    </tr>\n",
       "    <tr>\n",
       "      <th>2</th>\n",
       "      <td>Листки, которые оставил в книге Падуб...</td>\n",
       "      <td>оставить</td>\n",
       "      <td>no</td>\n",
       "      <td>которые</td>\n",
       "      <td>PRON</td>\n",
       "      <td>None</td>\n",
       "      <td>Падуб</td>\n",
       "      <td>PROPN</td>\n",
       "      <td>inan</td>\n",
       "      <td>DO-IO</td>\n",
       "      <td>книге</td>\n",
       "    </tr>\n",
       "    <tr>\n",
       "      <th>3</th>\n",
       "      <td>А читать их было нелегко: Падуб делал записи ...</td>\n",
       "      <td>делать</td>\n",
       "      <td>Падуб</td>\n",
       "      <td>записи</td>\n",
       "      <td>NOUN</td>\n",
       "      <td>inan</td>\n",
       "      <td>-</td>\n",
       "      <td>NOUN</td>\n",
       "      <td>None</td>\n",
       "      <td>DO-IO</td>\n",
       "      <td>языках, буквами</td>\n",
       "    </tr>\n",
       "    <tr>\n",
       "      <th>4</th>\n",
       "      <td>Аспидс полагал, что Падуб видел в ней воплоще...</td>\n",
       "      <td>видеть</td>\n",
       "      <td>no</td>\n",
       "      <td>воплощение</td>\n",
       "      <td>NOUN</td>\n",
       "      <td>inan</td>\n",
       "      <td>Падуб</td>\n",
       "      <td>PROPN</td>\n",
       "      <td>inan</td>\n",
       "      <td>IO-DO</td>\n",
       "      <td>ней</td>\n",
       "    </tr>\n",
       "    <tr>\n",
       "      <th>...</th>\n",
       "      <td>...</td>\n",
       "      <td>...</td>\n",
       "      <td>...</td>\n",
       "      <td>...</td>\n",
       "      <td>...</td>\n",
       "      <td>...</td>\n",
       "      <td>...</td>\n",
       "      <td>...</td>\n",
       "      <td>...</td>\n",
       "      <td>...</td>\n",
       "      <td>...</td>\n",
       "    </tr>\n",
       "    <tr>\n",
       "      <th>803</th>\n",
       "      <td>Украсил корону розами и жимолостью, и напосле...</td>\n",
       "      <td>украсить</td>\n",
       "      <td>no</td>\n",
       "      <td>корону</td>\n",
       "      <td>NOUN</td>\n",
       "      <td>inan</td>\n",
       "      <td>розами</td>\n",
       "      <td>NOUN</td>\n",
       "      <td>inan</td>\n",
       "      <td>DO-IO</td>\n",
       "      <td>no</td>\n",
       "    </tr>\n",
       "    <tr>\n",
       "      <th>804</th>\n",
       "      <td>- Вот и готово, - произнёс он, венчая ей голо...</td>\n",
       "      <td>венчать</td>\n",
       "      <td>no</td>\n",
       "      <td>головку</td>\n",
       "      <td>NOUN</td>\n",
       "      <td>inan</td>\n",
       "      <td>ей</td>\n",
       "      <td>PRON</td>\n",
       "      <td>None</td>\n",
       "      <td>IO-DO</td>\n",
       "      <td>no</td>\n",
       "    </tr>\n",
       "    <tr>\n",
       "      <th>805</th>\n",
       "      <td>186 Ровно держа голову под тяжёлой короной и ...</td>\n",
       "      <td>гордый</td>\n",
       "      <td>no</td>\n",
       "      <td>его</td>\n",
       "      <td>PRON</td>\n",
       "      <td>None</td>\n",
       "      <td>вниманием</td>\n",
       "      <td>NOUN</td>\n",
       "      <td>inan</td>\n",
       "      <td>DO-IO</td>\n",
       "      <td>no</td>\n",
       "    </tr>\n",
       "    <tr>\n",
       "      <th>806</th>\n",
       "      <td>Она протянула ему готовую косичку.</td>\n",
       "      <td>протянуть</td>\n",
       "      <td>Она</td>\n",
       "      <td>косичку</td>\n",
       "      <td>NOUN</td>\n",
       "      <td>inan</td>\n",
       "      <td>ему</td>\n",
       "      <td>PRON</td>\n",
       "      <td>None</td>\n",
       "      <td>IO-DO</td>\n",
       "      <td>no</td>\n",
       "    </tr>\n",
       "    <tr>\n",
       "      <th>807</th>\n",
       "      <td>Он свернул её спиралью и спрятал под заднюю к...</td>\n",
       "      <td>свернуть</td>\n",
       "      <td>Он</td>\n",
       "      <td>её</td>\n",
       "      <td>PRON</td>\n",
       "      <td>None</td>\n",
       "      <td>спиралью</td>\n",
       "      <td>NOUN</td>\n",
       "      <td>inan</td>\n",
       "      <td>DO-IO</td>\n",
       "      <td>no</td>\n",
       "    </tr>\n",
       "  </tbody>\n",
       "</table>\n",
       "<p>808 rows × 11 columns</p>\n",
       "</div>"
      ],
      "text/plain": [
       "                                              Sentence       verb subject  \\\n",
       "0     Н. Готорн, из Предисловия к роману \"Дом о сем...      явить           \n",
       "1     Свои законные права к стопам Слагают вашим, п...    слагать      no   \n",
       "2            Листки, которые оставил в книге Падуб...    оставить      no   \n",
       "3     А читать их было нелегко: Падуб делал записи ...     делать   Падуб   \n",
       "4     Аспидс полагал, что Падуб видел в ней воплоще...     видеть      no   \n",
       "..                                                 ...        ...     ...   \n",
       "803   Украсил корону розами и жимолостью, и напосле...   украсить      no   \n",
       "804   - Вот и готово, - произнёс он, венчая ей голо...    венчать      no   \n",
       "805   186 Ровно держа голову под тяжёлой короной и ...     гордый      no   \n",
       "806                Она протянула ему готовую косичку.   протянуть     Она   \n",
       "807   Он свернул её спиралью и спрятал под заднюю к...   свернуть      Он   \n",
       "\n",
       "             DO DO_type DO_animacy         IO IO_type IO_animacy Order_  \\\n",
       "0    Реальность   PROPN       inan        нам    PRON       None  IO-DO   \n",
       "1         права    NOUN       inan      вашим     DET       None  DO-IO   \n",
       "2       которые    PRON       None      Падуб   PROPN       inan  DO-IO   \n",
       "3        записи    NOUN       inan          -    NOUN       None  DO-IO   \n",
       "4    воплощение    NOUN       inan      Падуб   PROPN       inan  IO-DO   \n",
       "..          ...     ...        ...        ...     ...        ...    ...   \n",
       "803      корону    NOUN       inan     розами    NOUN       inan  DO-IO   \n",
       "804     головку    NOUN       inan         ей    PRON       None  IO-DO   \n",
       "805         его    PRON       None  вниманием    NOUN       inan  DO-IO   \n",
       "806     косичку    NOUN       inan        ему    PRON       None  IO-DO   \n",
       "807          её    PRON       None   спиралью    NOUN       inan  DO-IO   \n",
       "\n",
       "                  oblative  \n",
       "0    Предисловия, собой, -  \n",
       "1                       no  \n",
       "2                    книге  \n",
       "3          языках, буквами  \n",
       "4                      ней  \n",
       "..                     ...  \n",
       "803                     no  \n",
       "804                     no  \n",
       "805                     no  \n",
       "806                     no  \n",
       "807                     no  \n",
       "\n",
       "[808 rows x 11 columns]"
      ]
     },
     "execution_count": 10,
     "metadata": {},
     "output_type": "execute_result"
    }
   ],
   "source": [
    "orders=pd.read_sql_query(\"SELECT * FROM Verbs WHERE Order_ NOT LIKE 'no'\", con=conn)\n",
    "pd.read_sql_query(\"SELECT * FROM Verbs WHERE Order_ NOT LIKE 'no'\", con=conn)"
   ]
  },
  {
   "cell_type": "markdown",
   "id": "05c087b1",
   "metadata": {},
   "source": [
    "Here is some general count of the orders: DO-IO vs IO-DO"
   ]
  },
  {
   "cell_type": "code",
   "execution_count": 11,
   "id": "5ab958db",
   "metadata": {
    "scrolled": true
   },
   "outputs": [
    {
     "data": {
      "image/png": "[encoded data removed]",
      "text/plain": [
       "<Figure size 432x288 with 1 Axes>"
      ]
     },
     "metadata": {
      "needs_background": "light"
     },
     "output_type": "display_data"
    }
   ],
   "source": [
    "orders['Order_'].value_counts().plot.bar(color='green');\n",
    "plt.title('Objects order: DO vs. IO general')\n",
    "plt.xlabel('Order')\n",
    "plt.ylabel('number of entries');"
   ]
  },
  {
   "cell_type": "code",
   "execution_count": 12,
   "id": "f6c0d97e",
   "metadata": {
    "scrolled": true
   },
   "outputs": [
    {
     "data": {
      "text/html": [
       "<div>\n",
       "<style scoped>\n",
       "    .dataframe tbody tr th:only-of-type {\n",
       "        vertical-align: middle;\n",
       "    }\n",
       "\n",
       "    .dataframe tbody tr th {\n",
       "        vertical-align: top;\n",
       "    }\n",
       "\n",
       "    .dataframe thead th {\n",
       "        text-align: right;\n",
       "    }\n",
       "</style>\n",
       "<table border=\"1\" class=\"dataframe\">\n",
       "  <thead>\n",
       "    <tr style=\"text-align: right;\">\n",
       "      <th></th>\n",
       "      <th>Order_</th>\n",
       "      <th>COUNT(Order_)</th>\n",
       "    </tr>\n",
       "  </thead>\n",
       "  <tbody>\n",
       "    <tr>\n",
       "      <th>0</th>\n",
       "      <td>DO-IO</td>\n",
       "      <td>300</td>\n",
       "    </tr>\n",
       "    <tr>\n",
       "      <th>1</th>\n",
       "      <td>IO-DO</td>\n",
       "      <td>508</td>\n",
       "    </tr>\n",
       "    <tr>\n",
       "      <th>2</th>\n",
       "      <td>no</td>\n",
       "      <td>27467</td>\n",
       "    </tr>\n",
       "  </tbody>\n",
       "</table>\n",
       "</div>"
      ],
      "text/plain": [
       "  Order_  COUNT(Order_)\n",
       "0  DO-IO            300\n",
       "1  IO-DO            508\n",
       "2     no          27467"
      ]
     },
     "execution_count": 12,
     "metadata": {},
     "output_type": "execute_result"
    }
   ],
   "source": [
    "pd.read_sql_query(\"SELECT Order_, COUNT(Order_) FROM Verbs GROUP BY Order_\", con=conn)"
   ]
  },
  {
   "cell_type": "markdown",
   "id": "1f9258fa",
   "metadata": {},
   "source": [
    "One of the important factors which influence the order of the objects is the POS. If a pronoun occupies one of the objects' positions, it tends to be linearly first. We can see on the plot, that if DO is pronoun, DO-IO order is more frequent, and when DO is a noun, the opposite order occurs more often."
   ]
  },
  {
   "cell_type": "code",
   "execution_count": 13,
   "id": "849c6e02",
   "metadata": {
    "scrolled": false
   },
   "outputs": [
    {
     "data": {
      "image/png": "[encoded data removed]",
      "text/plain": [
       "<Figure size 432x288 with 1 Axes>"
      ]
     },
     "metadata": {
      "needs_background": "light"
     },
     "output_type": "display_data"
    }
   ],
   "source": [
    "Order_pos = orders[['Order_', 'DO_type','verb']].groupby(['Order_', 'DO_type'], as_index=False).count()\n",
    "\n",
    "Order_pos.columns = ['Order', 'DO_pos', 'verb']\n",
    "sns.barplot(x=\"DO_pos\", y=\"verb\", hue='Order', data=Order_pos)\n",
    "plt.title('Order by POS of DO')\n",
    "plt.xlabel('Order')\n",
    "plt.ylabel('number of entries');"
   ]
  },
  {
   "cell_type": "markdown",
   "id": "dced5e6a",
   "metadata": {},
   "source": [
    "The same is true for the IO POS. If IO is a pronoun, IO-DO order is dominant, while noun IOs are more frequent in DO-IO contexts."
   ]
  },
  {
   "cell_type": "code",
   "execution_count": 14,
   "id": "2b80ada9",
   "metadata": {
    "scrolled": true
   },
   "outputs": [
    {
     "data": {
      "image/png": "[encoded data removed]",
      "text/plain": [
       "<Figure size 432x288 with 1 Axes>"
      ]
     },
     "metadata": {
      "needs_background": "light"
     },
     "output_type": "display_data"
    }
   ],
   "source": [
    "Order_pos = orders[['Order_', 'IO_type','verb']].groupby(['Order_', 'IO_type'], as_index=False).count()\n",
    "\n",
    "Order_pos.columns = ['Order', 'IO_pos', 'verb']\n",
    "sns.barplot(x=\"IO_pos\", y=\"verb\", hue='Order', data=Order_pos)\n",
    "plt.title('Order by POS of IO')\n",
    "plt.xlabel('Order')\n",
    "plt.ylabel('number of entries');"
   ]
  },
  {
   "cell_type": "markdown",
   "id": "f2f7a981",
   "metadata": {},
   "source": [
    "Another important influencing factor is animacy - animate objects tend to occupy linearly first place. This is also somehow supported by my data: inanimate DOs are found more often in IO-DO contexts, while inanimate IOs (the plot below) are more often in DO-IO contexts. Although, we can not constate an opposite tendency by animate DOs and IOs. Also, this is the part that lacks statistics the most. "
   ]
  },
  {
   "cell_type": "code",
   "execution_count": 15,
   "id": "42358906",
   "metadata": {},
   "outputs": [
    {
     "data": {
      "image/png": "[encoded data removed]",
      "text/plain": [
       "<Figure size 432x288 with 1 Axes>"
      ]
     },
     "metadata": {
      "needs_background": "light"
     },
     "output_type": "display_data"
    }
   ],
   "source": [
    "Order_anim = orders[['Order_', 'DO_animacy','verb']].groupby(['Order_', 'DO_animacy'], as_index=False).count()\n",
    "\n",
    "Order_anim.columns = ['Order', 'DO_animacy', 'verb']\n",
    "sns.barplot(x=\"DO_animacy\", y=\"verb\", hue='Order', data=Order_anim)\n",
    "plt.title('Animacy by POS of DO')\n",
    "plt.xlabel('Order')\n",
    "plt.ylabel('number of entries');"
   ]
  },
  {
   "cell_type": "code",
   "execution_count": 16,
   "id": "c55c0031",
   "metadata": {},
   "outputs": [
    {
     "data": {
      "image/png": "[encoded data removed]",
      "text/plain": [
       "<Figure size 432x288 with 1 Axes>"
      ]
     },
     "metadata": {
      "needs_background": "light"
     },
     "output_type": "display_data"
    }
   ],
   "source": [
    "Order_anim = orders[['Order_', 'IO_animacy','verb']].groupby(['Order_', 'IO_animacy'], as_index=False).count()\n",
    "\n",
    "Order_anim.columns = ['Order', 'IO_animacy', 'verb']\n",
    "sns.barplot(x=\"IO_animacy\", y=\"verb\", hue='Order', data=Order_anim)\n",
    "plt.title('Animacy by POS of IO')\n",
    "plt.xlabel('Order')\n",
    "plt.ylabel('number of entries');"
   ]
  },
  {
   "cell_type": "markdown",
   "id": "1cf84c0c",
   "metadata": {},
   "source": [
    "Thus, the idea of this project was to compare the results of two similar studies on different data (most importantly, manually and auntomatically annotated). Of course, the aim is not fully accomplished, but some theoretical assumption, which are confirmed in the article, are somehow confirmed by my data too\n",
    "\n",
    "It does not mean at all, that the automatic annotation is satisfying, it has enormous problems in case of Russian at least. But probably in this particular case it was not so significant."
   ]
  }
 ],
 "metadata": {
  "kernelspec": {
   "display_name": "Python 3 (ipykernel)",
   "language": "python",
   "name": "python3"
  },
  "language_info": {
   "codemirror_mode": {
    "name": "ipython",
    "version": 3
   },
   "file_extension": ".py",
   "mimetype": "text/x-python",
   "name": "python",
   "nbconvert_exporter": "python",
   "pygments_lexer": "ipython3",
   "version": "3.9.6"
  }
 },
 "nbformat": 4,
 "nbformat_minor": 5
}
